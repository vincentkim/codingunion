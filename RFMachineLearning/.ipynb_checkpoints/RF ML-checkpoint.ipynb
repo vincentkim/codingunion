{
 "cells": [
  {
   "cell_type": "code",
   "execution_count": 94,
   "metadata": {},
   "outputs": [],
   "source": [
    "import pandas as pd\n",
    "import numpy as np\n",
    "import datetime\n",
    "from sklearn.ensemble import RandomForestClassifier\n",
    "from sklearn.tree import DecisionTreeClassifier\n",
    "from sklearn.utils import shuffle\n",
    "\n",
    "# SELECT train data \n",
    "train = pd.read_csv('./train_nt6.csv')\n",
    "\n",
    "#test = pd.read_csv('./test01_13.csv')\n",
    "#test2 = pd.read_csv('./test02_13.csv')"
   ]
  },
  {
   "cell_type": "code",
   "execution_count": 95,
   "metadata": {},
   "outputs": [],
   "source": [
    "test = pd.read_csv('./input/14p.csv')\n",
    "test_time = test.sort_values(by=['cur_time'], axis=0)\n",
    "\n",
    "idx1 = test_time[(test_time['temp_max'] > 50) | (test_time['temp_min'] < -20)].index\n",
    "test_time = test_time.drop(idx1)\n",
    "idx2 = test_time[(test_time['hum_max'] > 100) | (test_time['hum_min'] < 0)].index\n",
    "test_time = test_time.drop(idx2)\n",
    "\n",
    "num = test_time.shape[0]\n",
    "test_time = test_time.reindex(range(num), method='ffill')\n",
    "\n",
    "f = open(\"test14p.csv\", \"w\")\n",
    "f.write('temp_avg_gap')\n",
    "f.write(\",\")\n",
    "f.write('hum_avg_gap')\n",
    "f.write(\",\")\n",
    "f.write('temp_max_min')\n",
    "f.write(\",\")\n",
    "f.write('temp_min_max')\n",
    "f.write(\",\")\n",
    "f.write('hum_max_min')\n",
    "f.write(\",\")\n",
    "f.write('hum_min_max')\n",
    "f.write(\",\")\n",
    "f.write('status')\n",
    "f.write(\"\\n\")\n",
    "for i in range(test_time.shape[0]-1):\n",
    "    if test_time['status'][i] != 22:\n",
    "        if test_time['status'][i+1] == test_time['status'][i] and test_time['serial'][i+1] == test_time['serial'][i]:\n",
    "            data = datetime.datetime.strptime(test_time['cur_time'][i+1], '%Y-%m-%dT%H:%M:%S.%fZ') - datetime.datetime.strptime(test_time['cur_time'][i], '%Y-%m-%dT%H:%M:%S.%fZ')\n",
    "            res = round(data.seconds + data.days * 24 * 3600)\n",
    "            if res < 100:\n",
    "                f.write(str(round(test_time['temp_avg'][i+1] - test_time['temp_avg'][i], 2)))\n",
    "                f.write(\",\")\n",
    "                f.write(str(round(test_time['hum_avg'][i+1] - test_time['hum_avg'][i], 2)))\n",
    "                f.write(\",\")\n",
    "                f.write(str(round(test_time['temp_max'][i+1] - test_time['temp_min'][i], 2)))\n",
    "                f.write(\",\")\n",
    "                f.write(str(round(test_time['temp_min'][i+1] - test_time['temp_max'][i], 2)))\n",
    "                f.write(\",\")\n",
    "                f.write(str(round(test_time['hum_max'][i+1] - test_time['hum_min'][i], 2)))\n",
    "                f.write(\",\")\n",
    "                f.write(str(round(test_time['hum_min'][i+1] - test_time['hum_max'][i], 2)))\n",
    "                f.write(\",\")\n",
    "                f.write(str(test_time['status'][i]))\n",
    "                f.write(\"\\n\")\n",
    "f.close()\n",
    "\n",
    "test = pd.read_csv('./test14p.csv')"
   ]
  },
  {
   "cell_type": "code",
   "execution_count": 96,
   "metadata": {},
   "outputs": [
    {
     "data": {
      "text/plain": [
       "'\\ntest2 = pd.read_csv(\\'./input/13n.csv\\')\\ntest2_time = test2.sort_values(by=[\\'cur_time\\'], axis=0)\\n\\nidx1 = test2_time[(test2_time[\\'temp_max\\'] > 50) | (test2_time[\\'temp_min\\'] < -20)].index\\ntest2_time = test2_time.drop(idx1)\\nidx2 = test2_time[(test2_time[\\'hum_max\\'] > 100) | (test2_time[\\'hum_min\\'] < 0)].index\\ntest2_time = test2_time.drop(idx2)\\n\\nnum = test2_time.shape[0]\\ntest2_time = test2_time.reindex(range(num), method=\\'ffill\\')\\n\\nf = open(\"test13n.csv\", \"w\")\\nf.write(\\'temp_avg_gap\\')\\nf.write(\",\")\\nf.write(\\'hum_avg_gap\\')\\nf.write(\",\")\\nf.write(\\'temp_max_min\\')\\nf.write(\",\")\\nf.write(\\'temp_min_max\\')\\nf.write(\",\")\\nf.write(\\'hum_max_min\\')\\nf.write(\",\")\\nf.write(\\'hum_min_max\\')\\nf.write(\",\")\\nf.write(\\'status\\')\\nf.write(\"\\n\")\\nfor i in range(test2_time.shape[0]-1):\\n    if test2_time[\\'status\\'][i] != 22:\\n        if test2_time[\\'status\\'][i+1] == test2_time[\\'status\\'][i] and test2_time[\\'serial\\'][i+1] == test2_time[\\'serial\\'][i]:\\n            data = datetime.datetime.strptime(test2_time[\\'cur_time\\'][i+1], \\'%Y-%m-%dT%H:%M:%S.%fZ\\') - datetime.datetime.strptime(test2_time[\\'cur_time\\'][i], \\'%Y-%m-%dT%H:%M:%S.%fZ\\')\\n            res = round(data.seconds + data.days * 24 * 3600)\\n            if res < 100:\\n                f.write(str(round(test2_time[\\'temp_avg\\'][i+1] - test2_time[\\'temp_avg\\'][i], 2)))\\n                f.write(\",\")\\n                f.write(str(round(test2_time[\\'hum_avg\\'][i+1] - test2_time[\\'hum_avg\\'][i], 2)))\\n                f.write(\",\")\\n                f.write(str(round(test2_time[\\'temp_max\\'][i+1] - test2_time[\\'temp_min\\'][i], 2)))\\n                f.write(\",\")\\n                f.write(str(round(test2_time[\\'temp_min\\'][i+1] - test2_time[\\'temp_max\\'][i], 2)))\\n                f.write(\",\")\\n                f.write(str(round(test2_time[\\'hum_max\\'][i+1] - test2_time[\\'hum_min\\'][i], 2)))\\n                f.write(\",\")\\n                f.write(str(round(test2_time[\\'hum_min\\'][i+1] - test2_time[\\'hum_max\\'][i], 2)))\\n                f.write(\",\")\\n                f.write(str(test2_time[\\'status\\'][i]))\\n                f.write(\"\\n\")\\nf.close()\\n\\ntest2 = pd.read_csv(\\'./test13n.csv\\')\\n'"
      ]
     },
     "execution_count": 96,
     "metadata": {},
     "output_type": "execute_result"
    }
   ],
   "source": [
    "'''\n",
    "test2 = pd.read_csv('./input/13n.csv')\n",
    "test2_time = test2.sort_values(by=['cur_time'], axis=0)\n",
    "\n",
    "idx1 = test2_time[(test2_time['temp_max'] > 50) | (test2_time['temp_min'] < -20)].index\n",
    "test2_time = test2_time.drop(idx1)\n",
    "idx2 = test2_time[(test2_time['hum_max'] > 100) | (test2_time['hum_min'] < 0)].index\n",
    "test2_time = test2_time.drop(idx2)\n",
    "\n",
    "num = test2_time.shape[0]\n",
    "test2_time = test2_time.reindex(range(num), method='ffill')\n",
    "\n",
    "f = open(\"test13n.csv\", \"w\")\n",
    "f.write('temp_avg_gap')\n",
    "f.write(\",\")\n",
    "f.write('hum_avg_gap')\n",
    "f.write(\",\")\n",
    "f.write('temp_max_min')\n",
    "f.write(\",\")\n",
    "f.write('temp_min_max')\n",
    "f.write(\",\")\n",
    "f.write('hum_max_min')\n",
    "f.write(\",\")\n",
    "f.write('hum_min_max')\n",
    "f.write(\",\")\n",
    "f.write('status')\n",
    "f.write(\"\\n\")\n",
    "for i in range(test2_time.shape[0]-1):\n",
    "    if test2_time['status'][i] != 22:\n",
    "        if test2_time['status'][i+1] == test2_time['status'][i] and test2_time['serial'][i+1] == test2_time['serial'][i]:\n",
    "            data = datetime.datetime.strptime(test2_time['cur_time'][i+1], '%Y-%m-%dT%H:%M:%S.%fZ') - datetime.datetime.strptime(test2_time['cur_time'][i], '%Y-%m-%dT%H:%M:%S.%fZ')\n",
    "            res = round(data.seconds + data.days * 24 * 3600)\n",
    "            if res < 100:\n",
    "                f.write(str(round(test2_time['temp_avg'][i+1] - test2_time['temp_avg'][i], 2)))\n",
    "                f.write(\",\")\n",
    "                f.write(str(round(test2_time['hum_avg'][i+1] - test2_time['hum_avg'][i], 2)))\n",
    "                f.write(\",\")\n",
    "                f.write(str(round(test2_time['temp_max'][i+1] - test2_time['temp_min'][i], 2)))\n",
    "                f.write(\",\")\n",
    "                f.write(str(round(test2_time['temp_min'][i+1] - test2_time['temp_max'][i], 2)))\n",
    "                f.write(\",\")\n",
    "                f.write(str(round(test2_time['hum_max'][i+1] - test2_time['hum_min'][i], 2)))\n",
    "                f.write(\",\")\n",
    "                f.write(str(round(test2_time['hum_min'][i+1] - test2_time['hum_max'][i], 2)))\n",
    "                f.write(\",\")\n",
    "                f.write(str(test2_time['status'][i]))\n",
    "                f.write(\"\\n\")\n",
    "f.close()\n",
    "\n",
    "test2 = pd.read_csv('./test13n.csv')\n",
    "'''"
   ]
  },
  {
   "cell_type": "code",
   "execution_count": 97,
   "metadata": {},
   "outputs": [
    {
     "data": {
      "text/plain": [
       "((493, 8), (129, 7))"
      ]
     },
     "execution_count": 97,
     "metadata": {},
     "output_type": "execute_result"
    }
   ],
   "source": [
    "train.shape, test.shape#, test2.shape"
   ]
  },
  {
   "cell_type": "code",
   "execution_count": 98,
   "metadata": {},
   "outputs": [],
   "source": [
    "from sklearn.model_selection import KFold\n",
    "from sklearn.model_selection import cross_val_score\n",
    "k_fold = KFold(n_splits=10, shuffle=True, random_state=0)"
   ]
  },
  {
   "cell_type": "code",
   "execution_count": 99,
   "metadata": {},
   "outputs": [
    {
     "data": {
      "text/plain": [
       "((493, 7), (129, 7))"
      ]
     },
     "execution_count": 99,
     "metadata": {},
     "output_type": "execute_result"
    }
   ],
   "source": [
    "train_data = train.drop('work', axis=1)\n",
    "target = train[\"work\"]\n",
    "\n",
    "#test = test.drop('work', axis=1)\n",
    "#test2 = test2.drop('work', axis=1)\n",
    "\n",
    "train_data.shape, test.shape#, test2.shape"
   ]
  },
  {
   "cell_type": "code",
   "execution_count": 100,
   "metadata": {},
   "outputs": [
    {
     "data": {
      "text/plain": [
       "\"\\nclf = RandomForestClassifier(n_estimators=7)\\nscoring = 'accuracy'\\nscore = cross_val_score(clf, train_data, target, cv=k_fold, n_jobs=1, scoring=scoring)\\nprint(score)\\n\\n# Random Forest Score\\nround(np.mean(score)*100, 2)\\n\""
      ]
     },
     "execution_count": 100,
     "metadata": {},
     "output_type": "execute_result"
    }
   ],
   "source": [
    "'''\n",
    "clf = RandomForestClassifier(n_estimators=7)\n",
    "scoring = 'accuracy'\n",
    "score = cross_val_score(clf, train_data, target, cv=k_fold, n_jobs=1, scoring=scoring)\n",
    "print(score)\n",
    "\n",
    "# Random Forest Score\n",
    "round(np.mean(score)*100, 2)\n",
    "'''"
   ]
  },
  {
   "cell_type": "code",
   "execution_count": 101,
   "metadata": {},
   "outputs": [
    {
     "data": {
      "text/html": [
       "<div>\n",
       "<style scoped>\n",
       "    .dataframe tbody tr th:only-of-type {\n",
       "        vertical-align: middle;\n",
       "    }\n",
       "\n",
       "    .dataframe tbody tr th {\n",
       "        vertical-align: top;\n",
       "    }\n",
       "\n",
       "    .dataframe thead th {\n",
       "        text-align: right;\n",
       "    }\n",
       "</style>\n",
       "<table border=\"1\" class=\"dataframe\">\n",
       "  <thead>\n",
       "    <tr style=\"text-align: right;\">\n",
       "      <th></th>\n",
       "      <th>status</th>\n",
       "      <th>work</th>\n",
       "    </tr>\n",
       "  </thead>\n",
       "  <tbody>\n",
       "    <tr>\n",
       "      <th>0</th>\n",
       "      <td>33</td>\n",
       "      <td>1</td>\n",
       "    </tr>\n",
       "    <tr>\n",
       "      <th>1</th>\n",
       "      <td>33</td>\n",
       "      <td>1</td>\n",
       "    </tr>\n",
       "    <tr>\n",
       "      <th>2</th>\n",
       "      <td>33</td>\n",
       "      <td>1</td>\n",
       "    </tr>\n",
       "    <tr>\n",
       "      <th>3</th>\n",
       "      <td>33</td>\n",
       "      <td>1</td>\n",
       "    </tr>\n",
       "    <tr>\n",
       "      <th>4</th>\n",
       "      <td>33</td>\n",
       "      <td>1</td>\n",
       "    </tr>\n",
       "  </tbody>\n",
       "</table>\n",
       "</div>"
      ],
      "text/plain": [
       "   status  work\n",
       "0      33     1\n",
       "1      33     1\n",
       "2      33     1\n",
       "3      33     1\n",
       "4      33     1"
      ]
     },
     "execution_count": 101,
     "metadata": {},
     "output_type": "execute_result"
    }
   ],
   "source": [
    "clf = RandomForestClassifier(n_estimators=7)\n",
    "clf.fit(train_data, target)\n",
    "\n",
    "test_data = test.copy()\n",
    "predict = clf.predict(test_data)\n",
    "result =pd.DataFrame({\n",
    "    'status': test['status'],\n",
    "    'work': predict\n",
    "})\n",
    "result.to_csv('result_RF_14.csv', index=False)\n",
    "result_RF = pd.read_csv('result_RF_14.csv')\n",
    "'''\n",
    "test2_data = test2.copy()\n",
    "predict2 = clf.predict(test2_data)\n",
    "result2 =pd.DataFrame({\n",
    "    'status': test2['status'],\n",
    "    'work': predict2\n",
    "})\n",
    "result2.to_csv('result2_RF.csv', index=False)\n",
    "result2_RF = pd.read_csv('result2_RF.csv')\n",
    "'''\n",
    "result_RF.head()"
   ]
  },
  {
   "cell_type": "code",
   "execution_count": 102,
   "metadata": {},
   "outputs": [
    {
     "name": "stdout",
     "output_type": "stream",
     "text": [
      "RF  count:  92\n",
      "RF  error:  37\n",
      "Accuracy:  0.7131782945736435\n"
     ]
    },
    {
     "data": {
      "text/plain": [
       "'\\nprint(\"RF  count: \", result2_RF[\\'work\\'].value_counts()[0])\\nprint(\"RF  error: \", result2_RF[\\'work\\'].value_counts()[1])\\nprint(\"Accuracy: \", (result2_RF[\\'work\\'].value_counts()[0]/(result2_RF[\\'work\\'].value_counts()[1]+result2_RF[\\'work\\'].value_counts()[0])))\\n'"
      ]
     },
     "execution_count": 102,
     "metadata": {},
     "output_type": "execute_result"
    }
   ],
   "source": [
    "#print(\"RF  count: \", (result_RF['work'].value_counts()[1] + result2_RF['work'].value_counts()[0]))\n",
    "print(\"RF  count: \", result_RF['work'].value_counts()[1])\n",
    "print(\"RF  error: \", result_RF['work'].value_counts()[0])\n",
    "print(\"Accuracy: \", (result_RF['work'].value_counts()[1]/(result_RF['work'].value_counts()[1]+result_RF['work'].value_counts()[0])))\n",
    "'''\n",
    "print(\"RF  count: \", result2_RF['work'].value_counts()[0])\n",
    "print(\"RF  error: \", result2_RF['work'].value_counts()[1])\n",
    "print(\"Accuracy: \", (result2_RF['work'].value_counts()[0]/(result2_RF['work'].value_counts()[1]+result2_RF['work'].value_counts()[0])))\n",
    "'''"
   ]
  },
  {
   "cell_type": "code",
   "execution_count": null,
   "metadata": {},
   "outputs": [],
   "source": []
  }
 ],
 "metadata": {
  "kernelspec": {
   "display_name": "Python 3",
   "language": "python",
   "name": "python3"
  },
  "language_info": {
   "codemirror_mode": {
    "name": "ipython",
    "version": 3
   },
   "file_extension": ".py",
   "mimetype": "text/x-python",
   "name": "python",
   "nbconvert_exporter": "python",
   "pygments_lexer": "ipython3",
   "version": "3.6.4"
  }
 },
 "nbformat": 4,
 "nbformat_minor": 2
}
