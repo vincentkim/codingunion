{
 "cells": [
  {
   "cell_type": "code",
   "execution_count": 7,
   "metadata": {},
   "outputs": [
    {
     "name": "stdout",
     "output_type": "stream",
     "text": [
      "[0.64       0.62       0.68       0.57142857 0.7755102  0.65306122\n",
      " 0.63265306 0.63265306 0.55102041 0.6122449 ]\n"
     ]
    },
    {
     "data": {
      "text/plain": [
       "63.69"
      ]
     },
     "execution_count": 7,
     "metadata": {},
     "output_type": "execute_result"
    }
   ],
   "source": [
    "import pandas as pd\n",
    "import numpy as np\n",
    "import datetime\n",
    "\n",
    "# SELECT train data \n",
    "fortrain = pd.read_csv('./train_nt6.csv')\n",
    "\n",
    "from sklearn.linear_model import LogisticRegression\n",
    "ml = LogisticRegression(solver='lbfgs')\n",
    "\n",
    "x = fortrain.drop([\"work\"], axis=1)\n",
    "y = fortrain[\"work\"]\n",
    "ml.fit(x, y)\n",
    "ml.coef_\n",
    "\n",
    "from sklearn.model_selection import KFold\n",
    "from sklearn.model_selection import cross_val_score\n",
    "k_fold = KFold(n_splits=10, shuffle=True, random_state=0)\n",
    "\n",
    "scoring = 'accuracy'\n",
    "score = cross_val_score(ml, x, y, cv=k_fold, n_jobs=1, scoring=scoring)\n",
    "print(score)\n",
    "\n",
    "round(np.mean(score)*100, 2)"
   ]
  },
  {
   "cell_type": "code",
   "execution_count": 3,
   "metadata": {
    "scrolled": true
   },
   "outputs": [],
   "source": [
    "# SELECT test01 data\n",
    "test = pd.read_csv('./test01_13.csv')\n",
    "predict = ml.predict(test.drop(['work'], axis=1))\n",
    "result =pd.DataFrame({\n",
    "    'status': test['status'],\n",
    "    'work': predict\n",
    "})\n",
    "result.to_csv('working01_13_LR.csv', index=False) \n",
    "\n",
    "# SELECT test02 data\n",
    "test = pd.read_csv('./test02_13.csv')\n",
    "predict = ml.predict(test.drop(['work'], axis=1))\n",
    "result2 =pd.DataFrame({\n",
    "    'status': test['status'],\n",
    "    'work': predict\n",
    "})\n",
    "result2.to_csv('working02_13_LR.csv', index=False) "
   ]
  },
  {
   "cell_type": "code",
   "execution_count": 6,
   "metadata": {},
   "outputs": [
    {
     "name": "stdout",
     "output_type": "stream",
     "text": [
      "LR count:  188\n"
     ]
    }
   ],
   "source": [
    "print(\"LR count: \", (result['work'].value_counts()[1] + result2['work'].value_counts()[0]))"
   ]
  },
  {
   "cell_type": "code",
   "execution_count": null,
   "metadata": {},
   "outputs": [],
   "source": []
  }
 ],
 "metadata": {
  "kernelspec": {
   "display_name": "Python 3",
   "language": "python",
   "name": "python3"
  },
  "language_info": {
   "codemirror_mode": {
    "name": "ipython",
    "version": 3
   },
   "file_extension": ".py",
   "mimetype": "text/x-python",
   "name": "python",
   "nbconvert_exporter": "python",
   "pygments_lexer": "ipython3",
   "version": "3.6.4"
  }
 },
 "nbformat": 4,
 "nbformat_minor": 2
}
