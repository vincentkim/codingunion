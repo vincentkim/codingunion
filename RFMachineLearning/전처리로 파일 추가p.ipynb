{
 "cells": [
  {
   "cell_type": "code",
   "execution_count": 1,
   "metadata": {},
   "outputs": [],
   "source": [
    "import pandas as pd\n",
    "import numpy as np\n",
    "import datetime"
   ]
  },
  {
   "cell_type": "code",
   "execution_count": 2,
   "metadata": {},
   "outputs": [],
   "source": [
    "train = pd.read_csv('./input/13p.csv')"
   ]
  },
  {
   "cell_type": "code",
   "execution_count": 3,
   "metadata": {},
   "outputs": [
    {
     "data": {
      "text/plain": [
       "temp_max    0\n",
       "temp_min    0\n",
       "temp_avg    0\n",
       "hum_max     0\n",
       "hum_min     0\n",
       "hum_avg     0\n",
       "cur_time    0\n",
       "serial      0\n",
       "status      0\n",
       "mac         0\n",
       "dtype: int64"
      ]
     },
     "execution_count": 3,
     "metadata": {},
     "output_type": "execute_result"
    }
   ],
   "source": [
    "train.isnull().sum()"
   ]
  },
  {
   "cell_type": "code",
   "execution_count": 4,
   "metadata": {},
   "outputs": [],
   "source": [
    "train_time = train.sort_values(by=['cur_time'], axis=0)"
   ]
  },
  {
   "cell_type": "code",
   "execution_count": 5,
   "metadata": {},
   "outputs": [
    {
     "data": {
      "text/plain": [
       "numpy.int64"
      ]
     },
     "execution_count": 5,
     "metadata": {},
     "output_type": "execute_result"
    }
   ],
   "source": [
    "idx1 = train_time[(train_time['temp_max'] > 50) | (train_time['temp_min'] < -20)].index\n",
    "train_time = train_time.drop(idx1)\n",
    "idx2 = train_time[(train_time['hum_max'] > 100) | (train_time['hum_min'] < 0)].index\n",
    "train_time = train_time.drop(idx2)\n",
    "\n",
    "num = train_time.shape[0]\n",
    "train_time = train_time.reindex(range(num), method='ffill')\n",
    "train_time.head(num)\n",
    "type(train_time['status'][0])"
   ]
  },
  {
   "cell_type": "code",
   "execution_count": 6,
   "metadata": {},
   "outputs": [],
   "source": [
    "f = open(\"test01_13.csv\", \"a\")\n",
    "\n",
    "for i in range(train_time.shape[0]-1):\n",
    "    if train_time['status'][i] != 22:\n",
    "        if train_time['status'][i+1] == train_time['status'][i] and train_time['serial'][i+1] == train_time['serial'][i]:\n",
    "            data = datetime.datetime.strptime(train_time['cur_time'][i+1], '%Y-%m-%dT%H:%M:%S.%fZ') - datetime.datetime.strptime(train_time['cur_time'][i], '%Y-%m-%dT%H:%M:%S.%fZ')\n",
    "            res = round(data.seconds + data.days * 24 * 3600)\n",
    "            if res < 100:\n",
    "                f.write( str(res) )\n",
    "                f.write(\",\")\n",
    "                f.write(str(round(train_time['temp_avg'][i+1] - train_time['temp_avg'][i], 2)))\n",
    "                f.write(\",\")\n",
    "                f.write(str(round(train_time['hum_avg'][i+1] - train_time['hum_avg'][i], 2)))\n",
    "                f.write(\",\")\n",
    "                f.write(str(round(train_time['temp_max'][i+1] - train_time['temp_min'][i], 2)))\n",
    "                f.write(\",\")\n",
    "                f.write(str(round(train_time['temp_min'][i+1] - train_time['temp_max'][i], 2)))\n",
    "                f.write(\",\")\n",
    "                f.write(str(round(train_time['hum_max'][i+1] - train_time['hum_min'][i], 2)))\n",
    "                f.write(\",\")\n",
    "                f.write(str(round(train_time['hum_min'][i+1] - train_time['hum_max'][i], 2)))\n",
    "                f.write(\",\")\n",
    "                f.write(str(train_time['status'][i]))\n",
    "                f.write(\",\")\n",
    "                f.write('1')\n",
    "                f.write(\"\\n\")\n",
    "f.close()"
   ]
  },
  {
   "cell_type": "code",
   "execution_count": null,
   "metadata": {},
   "outputs": [],
   "source": []
  }
 ],
 "metadata": {
  "kernelspec": {
   "display_name": "Python 3",
   "language": "python",
   "name": "python3"
  },
  "language_info": {
   "codemirror_mode": {
    "name": "ipython",
    "version": 3
   },
   "file_extension": ".py",
   "mimetype": "text/x-python",
   "name": "python",
   "nbconvert_exporter": "python",
   "pygments_lexer": "ipython3",
   "version": "3.6.4"
  }
 },
 "nbformat": 4,
 "nbformat_minor": 2
}
