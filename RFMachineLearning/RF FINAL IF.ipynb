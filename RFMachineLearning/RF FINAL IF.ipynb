{
 "cells": [
  {
   "cell_type": "code",
   "execution_count": 40,
   "metadata": {},
   "outputs": [],
   "source": [
    "import pandas as pd\n",
    "import numpy as np\n",
    "import datetime\n",
    "from sklearn.ensemble import RandomForestClassifier\n",
    "\n",
    "# SELECT train data \n",
    "train = pd.read_csv('./train_nt6.csv')"
   ]
  },
  {
   "cell_type": "code",
   "execution_count": 41,
   "metadata": {},
   "outputs": [],
   "source": [
    "test = pd.read_csv('./input/14p.csv')\n",
    "test_time = test.sort_values(by=['cur_time'], axis=0)\n",
    "\n",
    "idx1 = test_time[(test_time['temp_max'] > 50) | (test_time['temp_min'] < -20)].index\n",
    "test_time = test_time.drop(idx1)\n",
    "idx2 = test_time[(test_time['hum_max'] > 100) | (test_time['hum_min'] < 0)].index\n",
    "test_time = test_time.drop(idx2)\n",
    "\n",
    "num = test_time.shape[0]\n",
    "test_time = test_time.reindex(range(num), method='ffill')\n",
    "\n",
    "f = open(\"test14p.csv\", \"w\")\n",
    "f.write('temp_avg_gap')\n",
    "f.write(\",\")\n",
    "f.write('hum_avg_gap')\n",
    "f.write(\",\")\n",
    "f.write('temp_max_min')\n",
    "f.write(\",\")\n",
    "f.write('temp_min_max')\n",
    "f.write(\",\")\n",
    "f.write('hum_max_min')\n",
    "f.write(\",\")\n",
    "f.write('hum_min_max')\n",
    "f.write(\",\")\n",
    "f.write('status')\n",
    "f.write(\"\\n\")\n",
    "for i in range(test_time.shape[0]-1):\n",
    "    if test_time['status'][i] != 22:\n",
    "        if test_time['status'][i+1] == test_time['status'][i] and test_time['serial'][i+1] == test_time['serial'][i]:\n",
    "            data = datetime.datetime.strptime(test_time['cur_time'][i+1], '%Y-%m-%dT%H:%M:%S.%fZ') - datetime.datetime.strptime(test_time['cur_time'][i], '%Y-%m-%dT%H:%M:%S.%fZ')\n",
    "            res = round(data.seconds + data.days * 24 * 3600)\n",
    "            if res < 100:\n",
    "                f.write(str(round(test_time['temp_avg'][i+1] - test_time['temp_avg'][i], 2)))\n",
    "                f.write(\",\")\n",
    "                f.write(str(round(test_time['hum_avg'][i+1] - test_time['hum_avg'][i], 2)))\n",
    "                f.write(\",\")\n",
    "                f.write(str(round(test_time['temp_max'][i+1] - test_time['temp_min'][i], 2)))\n",
    "                f.write(\",\")\n",
    "                f.write(str(round(test_time['temp_min'][i+1] - test_time['temp_max'][i], 2)))\n",
    "                f.write(\",\")\n",
    "                f.write(str(round(test_time['hum_max'][i+1] - test_time['hum_min'][i], 2)))\n",
    "                f.write(\",\")\n",
    "                f.write(str(round(test_time['hum_min'][i+1] - test_time['hum_max'][i], 2)))\n",
    "                f.write(\",\")\n",
    "                f.write(str(test_time['status'][i]))\n",
    "                f.write(\"\\n\")\n",
    "f.close()\n",
    "\n",
    "test = pd.read_csv('./test14p.csv')"
   ]
  },
  {
   "cell_type": "code",
   "execution_count": 42,
   "metadata": {},
   "outputs": [],
   "source": [
    "train_data = train.drop('work', axis=1)\n",
    "target = train[\"work\"]"
   ]
  },
  {
   "cell_type": "code",
   "execution_count": 43,
   "metadata": {},
   "outputs": [],
   "source": [
    "clf = RandomForestClassifier(n_estimators=7)\n",
    "clf.fit(train_data, target)\n",
    "\n",
    "test_data = test.copy()\n",
    "predict = clf.predict(test_data)\n",
    "result =pd.DataFrame({\n",
    "    'status': test['status'],\n",
    "    'work': predict\n",
    "})\n",
    "result.to_csv('result_RF_14.csv', index=False)\n",
    "result_RF = pd.read_csv('result_RF_14.csv')"
   ]
  },
  {
   "cell_type": "code",
   "execution_count": 44,
   "metadata": {},
   "outputs": [
    {
     "name": "stdout",
     "output_type": "stream",
     "text": [
      "RF  count:  93\n",
      "RF  error:  36\n",
      "Accuracy:  0.7209302325581395\n"
     ]
    }
   ],
   "source": [
    "print(\"RF  count: \", result_RF['work'].value_counts()[1])\n",
    "print(\"RF  error: \", result_RF['work'].value_counts()[0])\n",
    "print(\"Accuracy: \", (result_RF['work'].value_counts()[1]/(result_RF['work'].value_counts()[1]+result_RF['work'].value_counts()[0])))"
   ]
  },
  {
   "cell_type": "code",
   "execution_count": 45,
   "metadata": {},
   "outputs": [
    {
     "name": "stdout",
     "output_type": "stream",
     "text": [
      "ERROR OCCUR in status  23\n",
      "0\n",
      "0\n",
      "18\n",
      "ERROR OCCUR in status  31\n",
      "0\n",
      "0\n",
      "40\n",
      "ERROR OCCUR in status  13\n",
      "0\n",
      "0\n",
      "98\n",
      "ERROR OCCUR in status  13\n",
      "0\n",
      "0\n",
      "102\n",
      "ERROR OCCUR in status  13\n",
      "0\n",
      "0\n",
      "106\n",
      "ERROR OCCUR in status  13\n",
      "0\n",
      "0\n",
      "110\n",
      "ERROR OCCUR in status  13\n",
      "0\n",
      "0\n",
      "112\n",
      "ERROR OCCUR in status  13\n",
      "0\n",
      "0\n",
      "116\n",
      "ERROR OCCUR in status  13\n",
      "0\n",
      "0\n",
      "118\n",
      "ERROR OCCUR in status  13\n",
      "0\n",
      "0\n",
      "120\n",
      "ERROR OCCUR in status  13\n",
      "0\n",
      "0\n",
      "124\n",
      "ERROR OCCUR in status  13\n",
      "0\n",
      "0\n",
      "126\n"
     ]
    }
   ],
   "source": [
    "for i in range(0, result_RF.shape[0]-1, 2):\n",
    "    if result_RF['status'][i] == result_RF['status'][i + 1]:\n",
    "        if (result_RF['work'][i] | result_RF['work'][i + 1]) == 0:\n",
    "            print(\"ERROR OCCUR in status \", result_RF['status'][i])\n",
    "            print(result_RF['work'][i])\n",
    "            print(result_RF['work'][i+1])\n",
    "            print(i)"
   ]
  },
  {
   "cell_type": "code",
   "execution_count": null,
   "metadata": {},
   "outputs": [],
   "source": []
  }
 ],
 "metadata": {
  "kernelspec": {
   "display_name": "Python 3",
   "language": "python",
   "name": "python3"
  },
  "language_info": {
   "codemirror_mode": {
    "name": "ipython",
    "version": 3
   },
   "file_extension": ".py",
   "mimetype": "text/x-python",
   "name": "python",
   "nbconvert_exporter": "python",
   "pygments_lexer": "ipython3",
   "version": "3.6.4"
  }
 },
 "nbformat": 4,
 "nbformat_minor": 2
}
