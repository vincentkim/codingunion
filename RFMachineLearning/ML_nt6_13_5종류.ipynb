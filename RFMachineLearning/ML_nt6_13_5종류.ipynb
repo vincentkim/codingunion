{
 "cells": [
  {
   "cell_type": "code",
   "execution_count": 98,
   "metadata": {},
   "outputs": [],
   "source": [
    "import pandas as pd\n",
    "import numpy as np\n",
    "import datetime\n",
    "\n",
    "# SELECT train data \n",
    "train = pd.read_csv('./train_nt6.csv')\n",
    "\n",
    "test = pd.read_csv('./test01_13.csv')\n",
    "test2 = pd.read_csv('./test02_13.csv')\n",
    "\n",
    "from sklearn.linear_model import LogisticRegression\n",
    "from sklearn.neighbors import KNeighborsClassifier\n",
    "from sklearn.tree import DecisionTreeClassifier\n",
    "from sklearn.ensemble import RandomForestClassifier\n",
    "from sklearn.naive_bayes import GaussianNB\n",
    "from sklearn.svm import SVC\n",
    "\n",
    "from sklearn.utils import shuffle"
   ]
  },
  {
   "cell_type": "code",
   "execution_count": 99,
   "metadata": {},
   "outputs": [
    {
     "data": {
      "text/plain": [
       "(493, 8)"
      ]
     },
     "execution_count": 99,
     "metadata": {},
     "output_type": "execute_result"
    }
   ],
   "source": [
    "train.shape"
   ]
  },
  {
   "cell_type": "code",
   "execution_count": 100,
   "metadata": {},
   "outputs": [
    {
     "data": {
      "text/plain": [
       "(150, 8)"
      ]
     },
     "execution_count": 100,
     "metadata": {},
     "output_type": "execute_result"
    }
   ],
   "source": [
    "test.shape"
   ]
  },
  {
   "cell_type": "code",
   "execution_count": 101,
   "metadata": {},
   "outputs": [
    {
     "data": {
      "text/plain": [
       "(222, 8)"
      ]
     },
     "execution_count": 101,
     "metadata": {},
     "output_type": "execute_result"
    }
   ],
   "source": [
    "test2.shape"
   ]
  },
  {
   "cell_type": "code",
   "execution_count": 102,
   "metadata": {},
   "outputs": [],
   "source": [
    "import matplotlib.pyplot as plt\n",
    "%matplotlib inline\n",
    "import seaborn as sns\n",
    "sns.set() # setting seaborn default for plots"
   ]
  },
  {
   "cell_type": "code",
   "execution_count": 103,
   "metadata": {},
   "outputs": [
    {
     "data": {
      "text/plain": [
       "\"\\ndef bar_chart(feature):\\n    work = train[train['work']==1][feature].value_counts()\\n    dead = train[train['work']==0][feature].value_counts()\\n    df = pd.DataFrame([work,dead])\\n    df.index = ['work','dead']\\n    df.plot(kind='bar',stacked=True, figsize=(10,5))\\n\\nbar_chart('temp_avg_gap')\\nbar_chart('status')\\n\""
      ]
     },
     "execution_count": 103,
     "metadata": {},
     "output_type": "execute_result"
    }
   ],
   "source": [
    "'''\n",
    "def bar_chart(feature):\n",
    "    work = train[train['work']==1][feature].value_counts()\n",
    "    dead = train[train['work']==0][feature].value_counts()\n",
    "    df = pd.DataFrame([work,dead])\n",
    "    df.index = ['work','dead']\n",
    "    df.plot(kind='bar',stacked=True, figsize=(10,5))\n",
    "\n",
    "bar_chart('temp_avg_gap')\n",
    "bar_chart('status')\n",
    "'''"
   ]
  },
  {
   "cell_type": "code",
   "execution_count": 104,
   "metadata": {},
   "outputs": [
    {
     "data": {
      "text/plain": [
       "((493, 7), (150, 7), (222, 7))"
      ]
     },
     "execution_count": 104,
     "metadata": {},
     "output_type": "execute_result"
    }
   ],
   "source": [
    "train_data = train.drop('work', axis=1)\n",
    "\n",
    "test = test.drop('work', axis=1)\n",
    "test2 = test2.drop('work', axis=1)\n",
    "\n",
    "target = train[\"work\"]\n",
    "\n",
    "train_data.shape, test.shape, test2.shape"
   ]
  },
  {
   "cell_type": "code",
   "execution_count": 105,
   "metadata": {},
   "outputs": [
    {
     "name": "stdout",
     "output_type": "stream",
     "text": [
      "<class 'pandas.core.frame.DataFrame'>\n",
      "RangeIndex: 493 entries, 0 to 492\n",
      "Data columns (total 8 columns):\n",
      "temp_avg_gap    493 non-null float64\n",
      "hum_avg_gap     493 non-null float64\n",
      "temp_max_min    493 non-null float64\n",
      "temp_min_max    493 non-null float64\n",
      "hum_max_min     493 non-null float64\n",
      "hum_min_max     493 non-null float64\n",
      "status          493 non-null int64\n",
      "work            493 non-null int64\n",
      "dtypes: float64(6), int64(2)\n",
      "memory usage: 30.9 KB\n"
     ]
    }
   ],
   "source": [
    "train.info()"
   ]
  },
  {
   "cell_type": "code",
   "execution_count": 106,
   "metadata": {},
   "outputs": [],
   "source": [
    "from sklearn.model_selection import KFold\n",
    "from sklearn.model_selection import cross_val_score\n",
    "k_fold = KFold(n_splits=10, shuffle=True, random_state=0)"
   ]
  },
  {
   "cell_type": "code",
   "execution_count": 107,
   "metadata": {},
   "outputs": [
    {
     "name": "stdout",
     "output_type": "stream",
     "text": [
      "[0.8        0.78       0.78       0.85714286 0.79591837 0.85714286\n",
      " 0.93877551 0.85714286 0.73469388 0.87755102]\n"
     ]
    }
   ],
   "source": [
    "clf = KNeighborsClassifier(n_neighbors = 7)\n",
    "scoring = 'accuracy'\n",
    "score = cross_val_score(clf, train_data, target, cv=k_fold, n_jobs=1, scoring=scoring)\n",
    "print(score)"
   ]
  },
  {
   "cell_type": "code",
   "execution_count": 108,
   "metadata": {},
   "outputs": [
    {
     "data": {
      "text/plain": [
       "82.78"
      ]
     },
     "execution_count": 108,
     "metadata": {},
     "output_type": "execute_result"
    }
   ],
   "source": [
    "# kNN Score\n",
    "round(np.mean(score)*100, 2)"
   ]
  },
  {
   "cell_type": "code",
   "execution_count": 109,
   "metadata": {},
   "outputs": [
    {
     "name": "stdout",
     "output_type": "stream",
     "text": [
      "[0.9        0.9        0.98       0.85714286 0.87755102 0.97959184\n",
      " 0.93877551 0.89795918 0.85714286 0.91836735]\n"
     ]
    }
   ],
   "source": [
    "clf = DecisionTreeClassifier()\n",
    "scoring = 'accuracy'\n",
    "score = cross_val_score(clf, train_data, target, cv=k_fold, n_jobs=1, scoring=scoring)\n",
    "print(score)"
   ]
  },
  {
   "cell_type": "code",
   "execution_count": 110,
   "metadata": {},
   "outputs": [
    {
     "data": {
      "text/plain": [
       "91.07"
      ]
     },
     "execution_count": 110,
     "metadata": {},
     "output_type": "execute_result"
    }
   ],
   "source": [
    "# decision tree Score\n",
    "round(np.mean(score)*100, 2)"
   ]
  },
  {
   "cell_type": "code",
   "execution_count": 111,
   "metadata": {},
   "outputs": [
    {
     "name": "stdout",
     "output_type": "stream",
     "text": [
      "[0.86       0.94       0.92       0.91836735 0.89795918 0.91836735\n",
      " 0.93877551 0.93877551 0.91836735 0.91836735]\n"
     ]
    }
   ],
   "source": [
    "clf = RandomForestClassifier(n_estimators=7)\n",
    "scoring = 'accuracy'\n",
    "score = cross_val_score(clf, train_data, target, cv=k_fold, n_jobs=1, scoring=scoring)\n",
    "print(score)"
   ]
  },
  {
   "cell_type": "code",
   "execution_count": 112,
   "metadata": {},
   "outputs": [
    {
     "data": {
      "text/plain": [
       "91.69"
      ]
     },
     "execution_count": 112,
     "metadata": {},
     "output_type": "execute_result"
    }
   ],
   "source": [
    "# Random Forest Score\n",
    "round(np.mean(score)*100, 2)"
   ]
  },
  {
   "cell_type": "code",
   "execution_count": 113,
   "metadata": {},
   "outputs": [
    {
     "name": "stdout",
     "output_type": "stream",
     "text": [
      "[0.74       0.66       0.74       0.73469388 0.73469388 0.63265306\n",
      " 0.6122449  0.6122449  0.59183673 0.67346939]\n"
     ]
    }
   ],
   "source": [
    "clf = GaussianNB()\n",
    "scoring = 'accuracy'\n",
    "score = cross_val_score(clf, train_data, target, cv=k_fold, n_jobs=1, scoring=scoring)\n",
    "print(score)"
   ]
  },
  {
   "cell_type": "code",
   "execution_count": 114,
   "metadata": {},
   "outputs": [
    {
     "data": {
      "text/plain": [
       "67.32"
      ]
     },
     "execution_count": 114,
     "metadata": {},
     "output_type": "execute_result"
    }
   ],
   "source": [
    "# Naive Bayes Score\n",
    "round(np.mean(score)*100, 2)"
   ]
  },
  {
   "cell_type": "code",
   "execution_count": 115,
   "metadata": {},
   "outputs": [
    {
     "name": "stdout",
     "output_type": "stream",
     "text": [
      "[0.74       0.74       0.78       0.79591837 0.79591837 0.83673469\n",
      " 0.83673469 0.7755102  0.71428571 0.73469388]\n"
     ]
    }
   ],
   "source": [
    "clf = SVC()\n",
    "scoring = 'accuracy'\n",
    "score = cross_val_score(clf, train_data, target, cv=k_fold, n_jobs=1, scoring=scoring)\n",
    "print(score)"
   ]
  },
  {
   "cell_type": "code",
   "execution_count": 116,
   "metadata": {},
   "outputs": [
    {
     "data": {
      "text/plain": [
       "77.5"
      ]
     },
     "execution_count": 116,
     "metadata": {},
     "output_type": "execute_result"
    }
   ],
   "source": [
    "round(np.mean(score)*100,2)"
   ]
  },
  {
   "cell_type": "code",
   "execution_count": 117,
   "metadata": {},
   "outputs": [
    {
     "data": {
      "text/html": [
       "<div>\n",
       "<style scoped>\n",
       "    .dataframe tbody tr th:only-of-type {\n",
       "        vertical-align: middle;\n",
       "    }\n",
       "\n",
       "    .dataframe tbody tr th {\n",
       "        vertical-align: top;\n",
       "    }\n",
       "\n",
       "    .dataframe thead th {\n",
       "        text-align: right;\n",
       "    }\n",
       "</style>\n",
       "<table border=\"1\" class=\"dataframe\">\n",
       "  <thead>\n",
       "    <tr style=\"text-align: right;\">\n",
       "      <th></th>\n",
       "      <th>status</th>\n",
       "      <th>work</th>\n",
       "    </tr>\n",
       "  </thead>\n",
       "  <tbody>\n",
       "    <tr>\n",
       "      <th>0</th>\n",
       "      <td>33</td>\n",
       "      <td>0</td>\n",
       "    </tr>\n",
       "    <tr>\n",
       "      <th>1</th>\n",
       "      <td>33</td>\n",
       "      <td>1</td>\n",
       "    </tr>\n",
       "    <tr>\n",
       "      <th>2</th>\n",
       "      <td>32</td>\n",
       "      <td>1</td>\n",
       "    </tr>\n",
       "    <tr>\n",
       "      <th>3</th>\n",
       "      <td>32</td>\n",
       "      <td>1</td>\n",
       "    </tr>\n",
       "    <tr>\n",
       "      <th>4</th>\n",
       "      <td>32</td>\n",
       "      <td>1</td>\n",
       "    </tr>\n",
       "  </tbody>\n",
       "</table>\n",
       "</div>"
      ],
      "text/plain": [
       "   status  work\n",
       "0      33     0\n",
       "1      33     1\n",
       "2      32     1\n",
       "3      32     1\n",
       "4      32     1"
      ]
     },
     "execution_count": 117,
     "metadata": {},
     "output_type": "execute_result"
    }
   ],
   "source": [
    "clf = KNeighborsClassifier(n_neighbors = 7)\n",
    "clf.fit(train_data, target)\n",
    "\n",
    "test_data = test.copy()\n",
    "test2_data = test2.copy()\n",
    "\n",
    "predict = clf.predict(test_data)\n",
    "predict2 = clf.predict(test2_data)\n",
    "\n",
    "result =pd.DataFrame({\n",
    "    'status': test['status'],\n",
    "    'work': predict\n",
    "})\n",
    "\n",
    "result2 =pd.DataFrame({\n",
    "    'status': test2['status'],\n",
    "    'work': predict2\n",
    "})\n",
    "\n",
    "result.to_csv('result_KNN.csv', index=False)\n",
    "result2.to_csv('result2_KNN.csv', index=False)\n",
    "\n",
    "result_KNN = pd.read_csv('result_KNN.csv')\n",
    "result2_KNN = pd.read_csv('result2_KNN.csv')\n",
    "\n",
    "result_KNN.head()"
   ]
  },
  {
   "cell_type": "code",
   "execution_count": 118,
   "metadata": {},
   "outputs": [
    {
     "data": {
      "text/html": [
       "<div>\n",
       "<style scoped>\n",
       "    .dataframe tbody tr th:only-of-type {\n",
       "        vertical-align: middle;\n",
       "    }\n",
       "\n",
       "    .dataframe tbody tr th {\n",
       "        vertical-align: top;\n",
       "    }\n",
       "\n",
       "    .dataframe thead th {\n",
       "        text-align: right;\n",
       "    }\n",
       "</style>\n",
       "<table border=\"1\" class=\"dataframe\">\n",
       "  <thead>\n",
       "    <tr style=\"text-align: right;\">\n",
       "      <th></th>\n",
       "      <th>status</th>\n",
       "      <th>work</th>\n",
       "    </tr>\n",
       "  </thead>\n",
       "  <tbody>\n",
       "    <tr>\n",
       "      <th>0</th>\n",
       "      <td>33</td>\n",
       "      <td>0</td>\n",
       "    </tr>\n",
       "    <tr>\n",
       "      <th>1</th>\n",
       "      <td>33</td>\n",
       "      <td>1</td>\n",
       "    </tr>\n",
       "    <tr>\n",
       "      <th>2</th>\n",
       "      <td>32</td>\n",
       "      <td>1</td>\n",
       "    </tr>\n",
       "    <tr>\n",
       "      <th>3</th>\n",
       "      <td>32</td>\n",
       "      <td>1</td>\n",
       "    </tr>\n",
       "    <tr>\n",
       "      <th>4</th>\n",
       "      <td>32</td>\n",
       "      <td>1</td>\n",
       "    </tr>\n",
       "  </tbody>\n",
       "</table>\n",
       "</div>"
      ],
      "text/plain": [
       "   status  work\n",
       "0      33     0\n",
       "1      33     1\n",
       "2      32     1\n",
       "3      32     1\n",
       "4      32     1"
      ]
     },
     "execution_count": 118,
     "metadata": {},
     "output_type": "execute_result"
    }
   ],
   "source": [
    "clf = DecisionTreeClassifier()\n",
    "clf.fit(train_data, target)\n",
    "\n",
    "test_data = test.copy()\n",
    "test2_data = test2.copy()\n",
    "\n",
    "predict = clf.predict(test_data)\n",
    "predict2 = clf.predict(test2_data)\n",
    "\n",
    "result =pd.DataFrame({\n",
    "    'status': test['status'],\n",
    "    'work': predict\n",
    "})\n",
    "\n",
    "result2 =pd.DataFrame({\n",
    "    'status': test2['status'],\n",
    "    'work': predict2\n",
    "})\n",
    "\n",
    "result.to_csv('result_DT.csv', index=False)\n",
    "result2.to_csv('result2_DT.csv', index=False)\n",
    "\n",
    "result_DT = pd.read_csv('result_DT.csv')\n",
    "result2_DT = pd.read_csv('result2_DT.csv')\n",
    "\n",
    "result_DT.head()"
   ]
  },
  {
   "cell_type": "code",
   "execution_count": 119,
   "metadata": {},
   "outputs": [
    {
     "data": {
      "text/html": [
       "<div>\n",
       "<style scoped>\n",
       "    .dataframe tbody tr th:only-of-type {\n",
       "        vertical-align: middle;\n",
       "    }\n",
       "\n",
       "    .dataframe tbody tr th {\n",
       "        vertical-align: top;\n",
       "    }\n",
       "\n",
       "    .dataframe thead th {\n",
       "        text-align: right;\n",
       "    }\n",
       "</style>\n",
       "<table border=\"1\" class=\"dataframe\">\n",
       "  <thead>\n",
       "    <tr style=\"text-align: right;\">\n",
       "      <th></th>\n",
       "      <th>status</th>\n",
       "      <th>work</th>\n",
       "    </tr>\n",
       "  </thead>\n",
       "  <tbody>\n",
       "    <tr>\n",
       "      <th>0</th>\n",
       "      <td>33</td>\n",
       "      <td>1</td>\n",
       "    </tr>\n",
       "    <tr>\n",
       "      <th>1</th>\n",
       "      <td>33</td>\n",
       "      <td>1</td>\n",
       "    </tr>\n",
       "    <tr>\n",
       "      <th>2</th>\n",
       "      <td>32</td>\n",
       "      <td>1</td>\n",
       "    </tr>\n",
       "    <tr>\n",
       "      <th>3</th>\n",
       "      <td>32</td>\n",
       "      <td>1</td>\n",
       "    </tr>\n",
       "    <tr>\n",
       "      <th>4</th>\n",
       "      <td>32</td>\n",
       "      <td>1</td>\n",
       "    </tr>\n",
       "  </tbody>\n",
       "</table>\n",
       "</div>"
      ],
      "text/plain": [
       "   status  work\n",
       "0      33     1\n",
       "1      33     1\n",
       "2      32     1\n",
       "3      32     1\n",
       "4      32     1"
      ]
     },
     "execution_count": 119,
     "metadata": {},
     "output_type": "execute_result"
    }
   ],
   "source": [
    "clf = RandomForestClassifier(n_estimators=7)\n",
    "clf.fit(train_data, target)\n",
    "\n",
    "test_data = test.copy()\n",
    "test2_data = test2.copy()\n",
    "\n",
    "predict = clf.predict(test_data)\n",
    "predict2 = clf.predict(test2_data)\n",
    "\n",
    "result =pd.DataFrame({\n",
    "    'status': test['status'],\n",
    "    'work': predict\n",
    "})\n",
    "\n",
    "result2 =pd.DataFrame({\n",
    "    'status': test2['status'],\n",
    "    'work': predict2\n",
    "})\n",
    "\n",
    "result.to_csv('result_RF.csv', index=False)\n",
    "result2.to_csv('result2_RF.csv', index=False)\n",
    "\n",
    "result_RF = pd.read_csv('result_RF.csv')\n",
    "result2_RF = pd.read_csv('result2_RF.csv')\n",
    "\n",
    "result_RF.head()"
   ]
  },
  {
   "cell_type": "code",
   "execution_count": 120,
   "metadata": {},
   "outputs": [
    {
     "data": {
      "text/html": [
       "<div>\n",
       "<style scoped>\n",
       "    .dataframe tbody tr th:only-of-type {\n",
       "        vertical-align: middle;\n",
       "    }\n",
       "\n",
       "    .dataframe tbody tr th {\n",
       "        vertical-align: top;\n",
       "    }\n",
       "\n",
       "    .dataframe thead th {\n",
       "        text-align: right;\n",
       "    }\n",
       "</style>\n",
       "<table border=\"1\" class=\"dataframe\">\n",
       "  <thead>\n",
       "    <tr style=\"text-align: right;\">\n",
       "      <th></th>\n",
       "      <th>status</th>\n",
       "      <th>work</th>\n",
       "    </tr>\n",
       "  </thead>\n",
       "  <tbody>\n",
       "    <tr>\n",
       "      <th>0</th>\n",
       "      <td>33</td>\n",
       "      <td>1</td>\n",
       "    </tr>\n",
       "    <tr>\n",
       "      <th>1</th>\n",
       "      <td>33</td>\n",
       "      <td>1</td>\n",
       "    </tr>\n",
       "    <tr>\n",
       "      <th>2</th>\n",
       "      <td>32</td>\n",
       "      <td>1</td>\n",
       "    </tr>\n",
       "    <tr>\n",
       "      <th>3</th>\n",
       "      <td>32</td>\n",
       "      <td>1</td>\n",
       "    </tr>\n",
       "    <tr>\n",
       "      <th>4</th>\n",
       "      <td>32</td>\n",
       "      <td>0</td>\n",
       "    </tr>\n",
       "  </tbody>\n",
       "</table>\n",
       "</div>"
      ],
      "text/plain": [
       "   status  work\n",
       "0      33     1\n",
       "1      33     1\n",
       "2      32     1\n",
       "3      32     1\n",
       "4      32     0"
      ]
     },
     "execution_count": 120,
     "metadata": {},
     "output_type": "execute_result"
    }
   ],
   "source": [
    "clf = GaussianNB()\n",
    "clf.fit(train_data, target)\n",
    "\n",
    "test_data = test.copy()\n",
    "test2_data = test2.copy()\n",
    "\n",
    "predict = clf.predict(test_data)\n",
    "predict2 = clf.predict(test2_data)\n",
    "\n",
    "result =pd.DataFrame({\n",
    "    'status': test['status'],\n",
    "    'work': predict\n",
    "})\n",
    "\n",
    "result2 =pd.DataFrame({\n",
    "    'status': test2['status'],\n",
    "    'work': predict2\n",
    "})\n",
    "\n",
    "result.to_csv('result_NB.csv', index=False)\n",
    "result2.to_csv('result2_NB.csv', index=False)\n",
    "\n",
    "result_NB = pd.read_csv('result_NB.csv')\n",
    "result2_NB = pd.read_csv('result2_NB.csv')\n",
    "\n",
    "result_NB.head()"
   ]
  },
  {
   "cell_type": "code",
   "execution_count": 121,
   "metadata": {},
   "outputs": [
    {
     "data": {
      "text/html": [
       "<div>\n",
       "<style scoped>\n",
       "    .dataframe tbody tr th:only-of-type {\n",
       "        vertical-align: middle;\n",
       "    }\n",
       "\n",
       "    .dataframe tbody tr th {\n",
       "        vertical-align: top;\n",
       "    }\n",
       "\n",
       "    .dataframe thead th {\n",
       "        text-align: right;\n",
       "    }\n",
       "</style>\n",
       "<table border=\"1\" class=\"dataframe\">\n",
       "  <thead>\n",
       "    <tr style=\"text-align: right;\">\n",
       "      <th></th>\n",
       "      <th>status</th>\n",
       "      <th>work</th>\n",
       "    </tr>\n",
       "  </thead>\n",
       "  <tbody>\n",
       "    <tr>\n",
       "      <th>0</th>\n",
       "      <td>33</td>\n",
       "      <td>0</td>\n",
       "    </tr>\n",
       "    <tr>\n",
       "      <th>1</th>\n",
       "      <td>33</td>\n",
       "      <td>1</td>\n",
       "    </tr>\n",
       "    <tr>\n",
       "      <th>2</th>\n",
       "      <td>32</td>\n",
       "      <td>1</td>\n",
       "    </tr>\n",
       "    <tr>\n",
       "      <th>3</th>\n",
       "      <td>32</td>\n",
       "      <td>1</td>\n",
       "    </tr>\n",
       "    <tr>\n",
       "      <th>4</th>\n",
       "      <td>32</td>\n",
       "      <td>1</td>\n",
       "    </tr>\n",
       "  </tbody>\n",
       "</table>\n",
       "</div>"
      ],
      "text/plain": [
       "   status  work\n",
       "0      33     0\n",
       "1      33     1\n",
       "2      32     1\n",
       "3      32     1\n",
       "4      32     1"
      ]
     },
     "execution_count": 121,
     "metadata": {},
     "output_type": "execute_result"
    }
   ],
   "source": [
    "clf = SVC()\n",
    "clf.fit(train_data, target)\n",
    "\n",
    "test_data = test.copy()\n",
    "test2_data = test2.copy()\n",
    "\n",
    "predict = clf.predict(test_data)\n",
    "predict2 = clf.predict(test2_data)\n",
    "\n",
    "result =pd.DataFrame({\n",
    "    'status': test['status'],\n",
    "    'work': predict\n",
    "})\n",
    "\n",
    "result2 =pd.DataFrame({\n",
    "    'status': test2['status'],\n",
    "    'work': predict2\n",
    "})\n",
    "\n",
    "result.to_csv('result_SVC.csv', index=False)\n",
    "result2.to_csv('result2_SVC.csv', index=False)\n",
    "\n",
    "result_SVC = pd.read_csv('result_SVC.csv')\n",
    "result2_SVC = pd.read_csv('result2_SVC.csv')\n",
    "\n",
    "result_SVC.head()"
   ]
  },
  {
   "cell_type": "code",
   "execution_count": 122,
   "metadata": {
    "scrolled": true
   },
   "outputs": [
    {
     "name": "stdout",
     "output_type": "stream",
     "text": [
      "KNN count:  0.5666666666666667\n",
      "DT  count:  0.6866666666666666\n",
      "RF  count:  0.6666666666666666\n",
      "NB  count:  0.36666666666666664\n",
      "SVC count:  0.5266666666666666\n"
     ]
    }
   ],
   "source": [
    "print(\"KNN count: \", result_KNN['work'].value_counts()[1]/(result_KNN['work'].value_counts()[1] + result_KNN['work'].value_counts()[0]))\n",
    "print(\"DT  count: \", result_DT['work'].value_counts()[1]/(result_DT['work'].value_counts()[1] + result_DT['work'].value_counts()[0]))\n",
    "print(\"RF  count: \", result_RF['work'].value_counts()[1]/(result_RF['work'].value_counts()[1] + result_RF['work'].value_counts()[0]))\n",
    "print(\"NB  count: \", result_NB['work'].value_counts()[1]/(result_NB['work'].value_counts()[1] + result_NB['work'].value_counts()[0]))\n",
    "print(\"SVC count: \", result_SVC['work'].value_counts()[1]/(result_SVC['work'].value_counts()[1] + result_SVC['work'].value_counts()[0]))"
   ]
  },
  {
   "cell_type": "code",
   "execution_count": 123,
   "metadata": {},
   "outputs": [
    {
     "name": "stdout",
     "output_type": "stream",
     "text": [
      "KNN count:  0.536036036036036\n",
      "DT  count:  0.6621621621621622\n",
      "RF  count:  0.8063063063063063\n",
      "NB  count:  0.6621621621621622\n",
      "SVC count:  0.8018018018018018\n"
     ]
    }
   ],
   "source": [
    "print(\"KNN count: \", result2_KNN['work'].value_counts()[0]/(result2_KNN['work'].value_counts()[1] + result2_KNN['work'].value_counts()[0]))\n",
    "print(\"DT  count: \", result2_DT['work'].value_counts()[0]/(result2_DT['work'].value_counts()[1] + result2_DT['work'].value_counts()[0]))\n",
    "print(\"RF  count: \", result2_RF['work'].value_counts()[0]/(result2_RF['work'].value_counts()[1] + result2_RF['work'].value_counts()[0]))\n",
    "print(\"NB  count: \", result2_NB['work'].value_counts()[0]/(result2_NB['work'].value_counts()[1] + result2_NB['work'].value_counts()[0]))\n",
    "print(\"SVC count: \", result2_SVC['work'].value_counts()[0]/(result2_SVC['work'].value_counts()[1] + result2_SVC['work'].value_counts()[0]))"
   ]
  },
  {
   "cell_type": "code",
   "execution_count": 124,
   "metadata": {},
   "outputs": [
    {
     "name": "stdout",
     "output_type": "stream",
     "text": [
      "KNN count:  0.5483870967741935\n",
      "DT  count:  0.6720430107526881\n",
      "RF  count:  0.75\n",
      "NB  count:  0.543010752688172\n",
      "SVC count:  0.6908602150537635\n"
     ]
    }
   ],
   "source": [
    "print(\"KNN count: \", (result_KNN['work'].value_counts()[1] +  result2_KNN['work'].value_counts()[0]) / (result_KNN['work'].value_counts()[1] + result_KNN['work'].value_counts()[0] + result2_KNN['work'].value_counts()[1] + result2_KNN['work'].value_counts()[0]))\n",
    "print(\"DT  count: \", (result_DT['work'].value_counts()[1] +  result2_DT['work'].value_counts()[0]) / (result_DT['work'].value_counts()[1] + result_DT['work'].value_counts()[0] + result2_DT['work'].value_counts()[1] + result2_DT['work'].value_counts()[0]))\n",
    "print(\"RF  count: \", (result_RF['work'].value_counts()[1] +  result2_RF['work'].value_counts()[0]) / (result_RF['work'].value_counts()[1] + result_RF['work'].value_counts()[0] + result2_RF['work'].value_counts()[1] + result2_RF['work'].value_counts()[0]))\n",
    "print(\"NB  count: \", (result_NB['work'].value_counts()[1] +  result2_NB['work'].value_counts()[0]) / (result_NB['work'].value_counts()[1] + result_NB['work'].value_counts()[0] + result2_NB['work'].value_counts()[1] + result2_NB['work'].value_counts()[0]))\n",
    "print(\"SVC count: \", (result_SVC['work'].value_counts()[1] +  result2_SVC['work'].value_counts()[0]) / (result_SVC['work'].value_counts()[1] + result_SVC['work'].value_counts()[0] + result2_SVC['work'].value_counts()[1] + result2_SVC['work'].value_counts()[0]))"
   ]
  },
  {
   "cell_type": "code",
   "execution_count": null,
   "metadata": {},
   "outputs": [],
   "source": []
  }
 ],
 "metadata": {
  "kernelspec": {
   "display_name": "Python 3",
   "language": "python",
   "name": "python3"
  },
  "language_info": {
   "codemirror_mode": {
    "name": "ipython",
    "version": 3
   },
   "file_extension": ".py",
   "mimetype": "text/x-python",
   "name": "python",
   "nbconvert_exporter": "python",
   "pygments_lexer": "ipython3",
   "version": "3.6.4"
  }
 },
 "nbformat": 4,
 "nbformat_minor": 2
}
